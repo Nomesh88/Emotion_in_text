{
 "cells": [
  {
   "cell_type": "code",
   "execution_count": 1,
   "metadata": {},
   "outputs": [
    {
     "name": "stdout",
     "output_type": "stream",
     "text": [
      "['i didnt feel humiliated'\n",
      " 'i can go from feeling so hopeless to so damned hopeful just from being around someone who cares and is awake'\n",
      " 'im grabbing a minute to post i feel greedy wrong' ...\n",
      " 'Vincent was irritated but not dismay'\n",
      " 'Kendall-Hume turned back to face the dismayed coup'\n",
      " 'I am dismayed , but not surpris']\n"
     ]
    }
   ],
   "source": [
    "#importing the required packages\n",
    "import pandas as pd\n",
    "df=pd.read_csv('C:/Users/nomesh.palakaluri.EMEA/OneDrive - Drilling Info/Desktop/Text model/Emotion.csv')\n",
    "text=df['Text'].values.astype(str)\n",
    "emotion=df['Emotion'].values.astype(str)\n",
    "print(text)"
   ]
  },
  {
   "cell_type": "code",
   "execution_count": 2,
   "metadata": {},
   "outputs": [],
   "source": [
    "#data cleaning \n",
    "import re\n",
    "def preprocess_text(sen):\n",
    "    # Remove punctuations and numbers\n",
    "    sentence = re.sub('[^a-zA-Z]', ' ', sen)\n",
    "\n",
    "    # Single character removal\n",
    "    sentence = re.sub(r\"\\s+[a-zA-Z]\\s+\", ' ', sentence)\n",
    "\n",
    "    # Removing multiple spaces\n",
    "    sentence = re.sub(r'\\s+', ' ', sentence)\n",
    "\n",
    "    return sentence"
   ]
  },
  {
   "cell_type": "code",
   "execution_count": null,
   "metadata": {},
   "outputs": [],
   "source": [
    "#processing the data cleaning on the dataset\n",
    "m=[]\n",
    "for i in range(len(text)):\n",
    "    s=text[i]\n",
    "    preprocess_text(s)\n",
    "    m.append(s)\n",
    "print(m)\n",
    "\n",
    " "
   ]
  },
  {
   "cell_type": "code",
   "execution_count": 4,
   "metadata": {},
   "outputs": [],
   "source": [
    "from sklearn.feature_extraction.text import CountVectorizer\n",
    "vectorizer = CountVectorizer()\n",
    "X = vectorizer.fit_transform(m)"
   ]
  },
  {
   "cell_type": "code",
   "execution_count": 5,
   "metadata": {},
   "outputs": [],
   "source": [
    "from sklearn.model_selection import train_test_split\n",
    "X_train, X_test, y_train, y_test = train_test_split(X, emotion, test_size=0.2, random_state=42)"
   ]
  },
  {
   "cell_type": "code",
   "execution_count": 6,
   "metadata": {},
   "outputs": [
    {
     "data": {
      "text/plain": [
       "RandomForestClassifier(random_state=0)"
      ]
     },
     "execution_count": 6,
     "metadata": {},
     "output_type": "execute_result"
    }
   ],
   "source": [
    "from sklearn.ensemble import RandomForestClassifier\n",
    "classifier = RandomForestClassifier(n_estimators=100, random_state=0)\n",
    "classifier.fit(X_train, y_train) "
   ]
  },
  {
   "cell_type": "code",
   "execution_count": 7,
   "metadata": {},
   "outputs": [],
   "source": [
    "y_pred_r = classifier.predict(X_test)"
   ]
  },
  {
   "cell_type": "code",
   "execution_count": 8,
   "metadata": {},
   "outputs": [
    {
     "name": "stdout",
     "output_type": "stream",
     "text": [
      "Accuracy: 0.8632339235787512\n"
     ]
    }
   ],
   "source": [
    "import sklearn.metrics as metrics\n",
    "print(\"Accuracy:\",metrics.accuracy_score(y_test, y_pred_r))"
   ]
  },
  {
   "cell_type": "code",
   "execution_count": 14,
   "metadata": {},
   "outputs": [
    {
     "name": "stdout",
     "output_type": "stream",
     "text": [
      "anger\n"
     ]
    }
   ],
   "source": [
    "#testing the data\n",
    "from collections import Counter\n",
    "import numpy as np\n",
    "sen1=\"hi i am excited a good news with you\"\n",
    "sen1=vectorizer.transform(sen1.split())\n",
    "classifier.predict(sen1)\n",
    "b = Counter(classifier.predict(sen1))\n",
    "print (b.most_common()[0][0])"
   ]
  },
  {
   "cell_type": "code",
   "execution_count": 23,
   "metadata": {},
   "outputs": [
    {
     "data": {
      "text/plain": [
       "0.847856477166822"
      ]
     },
     "execution_count": 23,
     "metadata": {},
     "output_type": "execute_result"
    }
   ],
   "source": [
    "#decision tree\n",
    "from sklearn.tree import DecisionTreeClassifier\n",
    "dtree = DecisionTreeClassifier()\n",
    "dtree = dtree.fit(X_train, y_train)\n",
    "dtree.score(X_test,y_test)"
   ]
  },
  {
   "cell_type": "code",
   "execution_count": 25,
   "metadata": {},
   "outputs": [
    {
     "name": "stderr",
     "output_type": "stream",
     "text": [
      "C:\\Users\\nomesh.palakaluri.EMEA\\AppData\\Local\\Programs\\Python\\Python310\\lib\\site-packages\\sklearn\\linear_model\\_logistic.py:814: ConvergenceWarning: lbfgs failed to converge (status=1):\n",
      "STOP: TOTAL NO. of ITERATIONS REACHED LIMIT.\n",
      "\n",
      "Increase the number of iterations (max_iter) or scale the data as shown in:\n",
      "    https://scikit-learn.org/stable/modules/preprocessing.html\n",
      "Please also refer to the documentation for alternative solver options:\n",
      "    https://scikit-learn.org/stable/modules/linear_model.html#logistic-regression\n",
      "  n_iter_i = _check_optimize_result(\n"
     ]
    },
    {
     "data": {
      "text/plain": [
       "0.8925908667287977"
      ]
     },
     "execution_count": 25,
     "metadata": {},
     "output_type": "execute_result"
    }
   ],
   "source": [
    "from sklearn.linear_model import LogisticRegression\n",
    "#specifying the model and fitting the data\n",
    "classifier1 = LogisticRegression()\n",
    "classifier1.fit(X_train, y_train)\n",
    "classifier1.score(X_test,y_test)\n"
   ]
  },
  {
   "cell_type": "code",
   "execution_count": 31,
   "metadata": {},
   "outputs": [
    {
     "name": "stdout",
     "output_type": "stream",
     "text": [
      "37.76794035414725\n"
     ]
    }
   ],
   "source": [
    "#DEFINING THE MODEL\n",
    "import pickle\n",
    "filename='C:/Users/nomesh.palakaluri.EMEA/OneDrive - Drilling Info/Desktop/Text-Classification-main/Text model/finalized_model[knn].sav'\n",
    "loaded_model = pickle.load(open(filename, 'rb'))\n",
    "loaded_model.fit(X_train,y_train)\n",
    "\n",
    "#ACCURACY OF THE MODEL\n",
    "result = loaded_model.score(X_test, y_test)\n",
    "print(result*100)\n"
   ]
  },
  {
   "cell_type": "code",
   "execution_count": 33,
   "metadata": {},
   "outputs": [
    {
     "name": "stdout",
     "output_type": "stream",
     "text": [
      "78.63466915191053\n"
     ]
    }
   ],
   "source": [
    "filename='C:/Users/nomesh.palakaluri.EMEA/OneDrive - Drilling Info/Desktop/Text-Classification-main/Text model/finalized_model[svm].sav'\n",
    "loaded_model = pickle.load(open(filename, 'rb'))\n",
    "loaded_model.fit(X_train,y_train)\n",
    "\n",
    "#ACCURACY OF THE MODEL\n",
    "result = loaded_model.score(X_test, y_test)\n",
    "print(result*100)\n"
   ]
  },
  {
   "cell_type": "code",
   "execution_count": 35,
   "metadata": {},
   "outputs": [
    {
     "name": "stdout",
     "output_type": "stream",
     "text": [
      "34.29636533084809\n"
     ]
    }
   ],
   "source": [
    "filename='C:/Users/nomesh.palakaluri.EMEA/OneDrive - Drilling Info/Desktop/Text-Classification-main/Text model/finalized_model[naive-bayes].sav'\n",
    "loaded_model = pickle.load(open(filename, 'rb'))\n",
    "loaded_model.fit(X_train.toarray(),y_train)\n",
    "\n",
    "#ACCURACY OF THE MODEL\n",
    "result = loaded_model.score(X_test.toarray(), y_test)\n",
    "print(result*100)"
   ]
  },
  {
   "cell_type": "code",
   "execution_count": 36,
   "metadata": {},
   "outputs": [
    {
     "name": "stdout",
     "output_type": "stream",
     "text": [
      "74.76700838769804\n"
     ]
    }
   ],
   "source": [
    "filename='C:/Users/nomesh.palakaluri.EMEA/OneDrive - Drilling Info/Desktop/Text-Classification-main/Text model/finalized_model[naive-bayes-ber].sav'\n",
    "loaded_model = pickle.load(open(filename, 'rb'))\n",
    "loaded_model.fit(X_train.toarray(),y_train)\n",
    "\n",
    "#ACCURACY OF THE MODEL\n",
    "result = loaded_model.score(X_test.toarray(), y_test)\n",
    "print(result*100)"
   ]
  },
  {
   "cell_type": "code",
   "execution_count": 37,
   "metadata": {},
   "outputs": [
    {
     "name": "stdout",
     "output_type": "stream",
     "text": [
      "65.00465983224603\n"
     ]
    }
   ],
   "source": [
    "filename='C:/Users/nomesh.palakaluri.EMEA/OneDrive - Drilling Info/Desktop/Text-Classification-main/Text model/finalized_model[naive-bayes-multi].sav'\n",
    "loaded_model = pickle.load(open(filename, 'rb'))\n",
    "loaded_model.fit(X_train.toarray(),y_train)\n",
    "\n",
    "#ACCURACY OF THE MODEL\n",
    "result = loaded_model.score(X_test.toarray(), y_test)\n",
    "print(result*100)"
   ]
  }
 ],
 "metadata": {
  "interpreter": {
   "hash": "8ac7df784fb9f66341270b4235b901a57e4c94a02ff00519a90c3611eb6bf397"
  },
  "kernelspec": {
   "display_name": "Python 3.10.2 64-bit",
   "language": "python",
   "name": "python3"
  },
  "language_info": {
   "codemirror_mode": {
    "name": "ipython",
    "version": 3
   },
   "file_extension": ".py",
   "mimetype": "text/x-python",
   "name": "python",
   "nbconvert_exporter": "python",
   "pygments_lexer": "ipython3",
   "version": "3.10.2"
  },
  "orig_nbformat": 4
 },
 "nbformat": 4,
 "nbformat_minor": 2
}
